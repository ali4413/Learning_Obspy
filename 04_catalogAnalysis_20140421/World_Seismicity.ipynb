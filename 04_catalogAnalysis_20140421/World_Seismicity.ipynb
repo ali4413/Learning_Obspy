{
 "metadata": {
  "name": ""
 },
 "nbformat": 3,
 "nbformat_minor": 0,
 "worksheets": [
  {
   "cells": [
    {
     "cell_type": "code",
     "collapsed": false,
     "input": [
      "import warnings\n",
      "warnings.filterwarnings('ignore')\n",
      "#%pylab inline\n",
      "import pandas as pd\n",
      "import cat_analysis\n",
      "from obspy import UTCDateTime\n",
      "import matplotlib.pyplot as plt\n",
      "#plt.xkcd"
     ],
     "language": "python",
     "metadata": {},
     "outputs": [],
     "prompt_number": 3
    },
    {
     "cell_type": "markdown",
     "metadata": {},
     "source": [
      "##Get Catalog data from USGS"
     ]
    },
    {
     "cell_type": "code",
     "collapsed": false,
     "input": [
      "t1 = UTCDateTime(\"2014-09-14T00:00:00.000\")\n",
      "t2 = UTCDateTime(\"2014-09-21T00:00:00.000\")\n",
      "\n",
      "cat = cat_analysis.get_cat(starttime = t1, endtime = t2, minmagnitude=-1, includeallorigins=True)\n",
      "print cat\n"
     ],
     "language": "python",
     "metadata": {},
     "outputs": [
      {
       "output_type": "stream",
       "stream": "stdout",
       "text": [
        "1353 Event(s) in Catalog:\n",
        "2014-09-20T15:51:19.430000Z | +36.579, -121.178 | 2.44 md | automatic\n",
        "2014-09-20T15:35:01.600000Z | +19.035,  -64.956 | 3.2 Md | manual\n",
        "...\n",
        "2014-09-14T00:11:07.502000Z | +37.410, -117.063 | 0.2 ml | manual\n",
        "2014-09-14T00:06:50.000000Z | +65.124, -148.960 | 1.5 ml | automatic\n",
        "To see all events call 'print CatalogObject.__str__(print_all=True)'\n"
       ]
      }
     ],
     "prompt_number": 4
    },
    {
     "cell_type": "markdown",
     "metadata": {},
     "source": [
      "####convert catalog data into list"
     ]
    },
    {
     "cell_type": "code",
     "collapsed": false,
     "input": [
      "#Here you can choose 'Moment_tensor' or 'Focal'\n",
      "earthquakes, mt, event_id, quarry_blast = cat_analysis.cat2list(cat, mt_type = 'Focal')"
     ],
     "language": "python",
     "metadata": {},
     "outputs": [],
     "prompt_number": 15
    },
    {
     "cell_type": "markdown",
     "metadata": {},
     "source": [
      "##Plot seismicity"
     ]
    },
    {
     "cell_type": "code",
     "collapsed": false,
     "input": [
      "#if the earthquake number larger than 100, then we won't label the magnitudes\n",
      "cat_analysis.plot_event(earthquakes, resolution = 'l', pretty = False, color = 'date', figsize = (14,12), \n",
      "                        location = 'World', M_above = 0.0, label = 'magnitude')"
     ],
     "language": "python",
     "metadata": {},
     "outputs": [],
     "prompt_number": 6
    },
    {
     "cell_type": "markdown",
     "metadata": {},
     "source": [
      "####Plot the quarry blast in US"
     ]
    },
    {
     "cell_type": "code",
     "collapsed": false,
     "input": [
      "cat_analysis.plot_event(quarry_blast, resolution = 'l', pretty = False, color = 'date', figsize = (14,12), \n",
      "                        label = 'magnitude', location = 'US')"
     ],
     "language": "python",
     "metadata": {},
     "outputs": [],
     "prompt_number": 8
    },
    {
     "cell_type": "markdown",
     "metadata": {},
     "source": [
      "##plot the scatter plot"
     ]
    },
    {
     "cell_type": "code",
     "collapsed": false,
     "input": [
      "df = cat_analysis.eq2df(earthquakes)\n",
      "pd.scatter_matrix(df[['evla', 'evlo', 'evdp', 'mag']], figsize = (10,10), alpha=0.7, diagonal='hist')"
     ],
     "language": "python",
     "metadata": {},
     "outputs": [
      {
       "metadata": {},
       "output_type": "pyout",
       "prompt_number": 9,
       "text": [
        "array([[<matplotlib.axes.AxesSubplot object at 0x10a510fd0>,\n",
        "        <matplotlib.axes.AxesSubplot object at 0x10703b0d0>,\n",
        "        <matplotlib.axes.AxesSubplot object at 0x107714e50>,\n",
        "        <matplotlib.axes.AxesSubplot object at 0x107031ad0>],\n",
        "       [<matplotlib.axes.AxesSubplot object at 0x10ac97c50>,\n",
        "        <matplotlib.axes.AxesSubplot object at 0x10700c350>,\n",
        "        <matplotlib.axes.AxesSubplot object at 0x107260b50>,\n",
        "        <matplotlib.axes.AxesSubplot object at 0x10776d1d0>],\n",
        "       [<matplotlib.axes.AxesSubplot object at 0x107055150>,\n",
        "        <matplotlib.axes.AxesSubplot object at 0x10a9f6a10>,\n",
        "        <matplotlib.axes.AxesSubplot object at 0x10a55b690>,\n",
        "        <matplotlib.axes.AxesSubplot object at 0x10a5748d0>],\n",
        "       [<matplotlib.axes.AxesSubplot object at 0x10a8d6b90>,\n",
        "        <matplotlib.axes.AxesSubplot object at 0x10a555290>,\n",
        "        <matplotlib.axes.AxesSubplot object at 0x10a874190>,\n",
        "        <matplotlib.axes.AxesSubplot object at 0x10a8676d0>]], dtype=object)"
       ]
      }
     ],
     "prompt_number": 9
    },
    {
     "cell_type": "code",
     "collapsed": false,
     "input": [
      "plt.show()"
     ],
     "language": "python",
     "metadata": {},
     "outputs": [],
     "prompt_number": 10
    },
    {
     "cell_type": "markdown",
     "metadata": {},
     "source": [
      "##Plot seismicity rate"
     ]
    },
    {
     "cell_type": "code",
     "collapsed": false,
     "input": [
      "cat_analysis.plot_seimicity_rate(earthquakes, time = 'Day')"
     ],
     "language": "python",
     "metadata": {},
     "outputs": [],
     "prompt_number": 12
    },
    {
     "cell_type": "markdown",
     "metadata": {},
     "source": [
      "##Plot cumulative number of earthquakes"
     ]
    },
    {
     "cell_type": "code",
     "collapsed": false,
     "input": [
      "cat_analysis.plot_cum(earthquakes, freq = '1T')"
     ],
     "language": "python",
     "metadata": {},
     "outputs": [],
     "prompt_number": 13
    },
    {
     "cell_type": "markdown",
     "metadata": {},
     "source": [
      "##Plot MT or Focal Mechanism"
     ]
    },
    {
     "cell_type": "code",
     "collapsed": false,
     "input": [
      "cat_analysis.plot_mt(earthquakes, mt, event_id, radius=25, dist_bt=500, mt_width=3, show_above_M = True, M_above = 5.5,\n",
      "                     figsize = (18,16), show_eq = False, angle_step=30, legend_loc=3, pretty = False)"
     ],
     "language": "python",
     "metadata": {},
     "outputs": [
      {
       "output_type": "stream",
       "stream": "stdout",
       "text": [
        "Max magnitude 6.7 Min magnitude 5.6\n"
       ]
      }
     ],
     "prompt_number": 14
    },
    {
     "cell_type": "markdown",
     "metadata": {},
     "source": [
      "##Get historical MT"
     ]
    },
    {
     "cell_type": "code",
     "collapsed": false,
     "input": [
      "t1 = UTCDateTime(\"2008-04-01\")\n",
      "t2 = UTCDateTime(\"2014-04-05\")\n",
      "\n",
      "psmeca = cat_analysis.get_hist_mt(t1, t2, evla = 13., evlo= 144.397, step = 5)\n",
      "cat_analysis.plot_hist_mt(psmeca, mt_size = 0.2, pretty = True)"
     ],
     "language": "python",
     "metadata": {},
     "outputs": [
      {
       "output_type": "stream",
       "stream": "stdout",
       "text": [
        "http://www.globalcmt.org/cgi-bin/globalcmt-cgi-bin/CMT4/form?itype=ymd&yr=2008&mo=4&day=1&otype=ymd&oyr=2014&omo=4&oday=5&jyr=1976&jday=1&ojyr=1976&ojday=1&nday=1&lmw=0&umw=10&lms=0&ums=10&lmb=0&umb=10&llat=8.0&ulat=18.0&llon=139.397&ulon=149.397&lhd=0&uhd=1000&lts=-9999&uts=9999&lpe1=0&upe1=90&lpe2=0&upe2=90&list=6\n"
       ]
      }
     ],
     "prompt_number": 30
    },
    {
     "cell_type": "code",
     "collapsed": false,
     "input": [],
     "language": "python",
     "metadata": {},
     "outputs": []
    }
   ],
   "metadata": {}
  }
 ]
}