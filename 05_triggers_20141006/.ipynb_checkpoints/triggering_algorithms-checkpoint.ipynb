{
 "metadata": {
  "name": ""
 },
 "nbformat": 3,
 "nbformat_minor": 0,
 "worksheets": [
  {
   "cells": [
    {
     "cell_type": "code",
     "collapsed": false,
     "input": [
      "from obspy.core import read\n",
      "#from obspy.signal.trigger import classicSTALTA\n",
      "import triggers\n",
      "reload(triggers)\n",
      "from triggers import *\n",
      "from obspy.signal.trigger import plotTrigger\n",
      "import matplotlib.pyplot as plt"
     ],
     "language": "python",
     "metadata": {},
     "outputs": [],
     "prompt_number": 34
    },
    {
     "cell_type": "code",
     "collapsed": false,
     "input": [
      "#let's first read in data for analysis\n",
      "st = read(\"./data/ev0_6.a02.gse2\")\n",
      "tr = st[0]\n",
      "df = tr.stats.sampling_rate\n",
      "tr.plot()"
     ],
     "language": "python",
     "metadata": {},
     "outputs": [],
     "prompt_number": 2
    },
    {
     "cell_type": "markdown",
     "metadata": {},
     "source": [
      "##Classic STA/LTA"
     ]
    },
    {
     "cell_type": "markdown",
     "metadata": {},
     "source": [
      "###The basic idea is to use a short term average (STA) to monitor the rapid change of the signal, and long term average (LTA) to monitor the background noise. If there's a suddent change of the signal, STA will pick it up very fast, but LTA will change gradually due to the long time window of the noise. "
     ]
    },
    {
     "cell_type": "code",
     "collapsed": false,
     "input": [
      "#the function of classicSTALTA returns the characteristic function of the algorithm, \n",
      "#here is the ratio of the STA/LTA\n",
      "\n",
      "#this version is using a sliding window to calculate the ratio, also, there's recusive version which can be applied to\n",
      "#real time\n",
      "cft, sta, lta = classicSTALTAPy(tr.data, int(0.5 * df), int(10 * df))\n",
      "plotTrigger(tr, cft, 5, 0.5)"
     ],
     "language": "python",
     "metadata": {},
     "outputs": [],
     "prompt_number": 13
    },
    {
     "cell_type": "code",
     "collapsed": false,
     "input": [
      "fig = plt.figure(figsize = (12, 8))\n",
      "ax1 = fig.add_subplot(411)\n",
      "plt.plot(tr.data, label ='data')\n",
      "plt.legend()\n",
      "fig.add_subplot(412, sharex = ax1)\n",
      "plt.plot(sta, label ='STA')\n",
      "plt.legend()\n",
      "fig.add_subplot(413, sharex = ax1)\n",
      "plt.plot(lta, label ='LTA')\n",
      "plt.legend()\n",
      "fig.add_subplot(414, sharex = ax1)\n",
      "plt.plot(cft, label ='STA/LTA')\n",
      "plt.legend()\n",
      "plt.xlabel('Data points')\n",
      "plt.show()"
     ],
     "language": "python",
     "metadata": {},
     "outputs": [],
     "prompt_number": 25
    },
    {
     "cell_type": "markdown",
     "metadata": {},
     "source": [
      "##Z detection"
     ]
    },
    {
     "cell_type": "markdown",
     "metadata": {},
     "source": [
      "###Z is the standardized variable (mean removed, and normalized by the standard deviation)\n",
      "##$Z(x_i) = \\frac{STA_i - \\mu}{\\sigma}$\n",
      "###The Z-detector estimates the distance of the data from the mean in units of the standard deviation"
     ]
    },
    {
     "cell_type": "code",
     "collapsed": false,
     "input": [
      "cft = zDetectpy(tr.data, int(10 * df))"
     ],
     "language": "python",
     "metadata": {},
     "outputs": [],
     "prompt_number": 35
    },
    {
     "cell_type": "code",
     "collapsed": false,
     "input": [
      "plotTrigger(tr, cft, -0.1, -0.3)"
     ],
     "language": "python",
     "metadata": {},
     "outputs": [],
     "prompt_number": 41
    },
    {
     "cell_type": "code",
     "collapsed": false,
     "input": [],
     "language": "python",
     "metadata": {},
     "outputs": []
    }
   ],
   "metadata": {}
  }
 ]
}