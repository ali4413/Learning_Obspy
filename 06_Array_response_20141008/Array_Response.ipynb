{
 "metadata": {
  "name": ""
 },
 "nbformat": 3,
 "nbformat_minor": 0,
 "worksheets": [
  {
   "cells": [
    {
     "cell_type": "code",
     "collapsed": false,
     "input": [
      "import matplotlib.pyplot as plt\n",
      "import numpy as np\n",
      "from obspy.signal.array_analysis import array_transff_wavenumber\n",
      "from obspy.signal.array_analysis import array_transff_freqslowness\n",
      "from random import *  "
     ],
     "language": "python",
     "metadata": {},
     "outputs": [],
     "prompt_number": 1
    },
    {
     "cell_type": "markdown",
     "metadata": {},
     "source": [
      "##Let's first look at what is Array response"
     ]
    },
    {
     "cell_type": "markdown",
     "metadata": {},
     "source": [
      "###The response of an array is defined by: the ratio of the amplitude of the output of the array to that of the same number of elements concentrated at one station (Sherrif and Geldart, 1995)"
     ]
    },
    {
     "cell_type": "code",
     "collapsed": false,
     "input": [
      "def get_transff_wavenumber(coords, klim = 1000., coordsys = 'xy'):\n",
      "    # coordinates in km\n",
      "    coords /= 1000.\n",
      "    \n",
      "    # set limits for wavenumber differences to analyze\n",
      "    kxmin = -klim\n",
      "    kxmax = klim\n",
      "    kymin = -klim\n",
      "    kymax = klim\n",
      "    kstep = klim / 100.\n",
      "    \n",
      "    # compute transfer function as a function of wavenumber difference\n",
      "    transff = array_transff_wavenumber(coords, klim, kstep, coordsys=coordsys)\n",
      "    \n",
      "    fig = plt.figure()\n",
      "    plt.subplot(111)\n",
      "    for item in coords:\n",
      "        plt.plot(item[0], item[1],'^', color = 'b')\n",
      "    \n",
      "    plt.xlim((1.1*min(coords[:,0]), 1.1*max(coords[:,0])))\n",
      "    plt.ylim((1.1*min(coords[:,1]), 1.1*max(coords[:,1])))  \n",
      "    plt.xlabel('Distance from center (km)', fontsize=16)\n",
      "    plt.ylabel('Distance from center (km)', fontsize=16)\n",
      "        \n",
      "    plt.show()\n",
      "    \n",
      "    fig = plt.figure()\n",
      "    plt.subplot(111)\n",
      "    plt.pcolor(np.arange(kxmin, kxmax + kstep * 1.1, kstep) - kstep / 2.,\n",
      "               np.arange(kymin, kymax + kstep * 1.1, kstep) - kstep / 2.,\n",
      "               transff.T)\n",
      "    \n",
      "    plt.colorbar()\n",
      "    plt.clim(vmin=0., vmax=1.)\n",
      "    plt.xlim(kxmin, kxmax)\n",
      "    plt.ylim(kymin, kymax)\n",
      "    plt.xlabel('Wavenumber', fontsize=16)\n",
      "    plt.ylabel('Wavenumber', fontsize=16)\n",
      "    \n",
      "    plt.show()\n",
      "    return transff\n",
      "\n",
      "def get_transff_freqslowness(coords, slim = 30., sstep = 0.1, fmin = 0.1, fmax = 10, fstep = 1, coordsys = 'xy'):\n",
      "    # coordinates in km\n",
      "    coords /= 1000.\n",
      "    \n",
      "    transff2 = array_transff_freqslowness(coords, slim, sstep, fmin, fmax, fstep,\n",
      "                               coordsys='lonlat')\n",
      "    \n",
      "    fig = plt.figure()\n",
      "    plt.subplot(111)\n",
      "    for item in coords:\n",
      "        plt.plot(item[0], item[1],'^', color = 'b')\n",
      "    \n",
      "    plt.xlim((1.1*min(coords[:,0]), 1.1*max(coords[:,0])))\n",
      "    plt.ylim((1.1*min(coords[:,1]), 1.1*max(coords[:,1])))  \n",
      "    plt.xlabel('Distance from center (km)', fontsize=16)\n",
      "    plt.ylabel('Distance from center (km)', fontsize=16)\n",
      "        \n",
      "    plt.show()\n",
      "    \n",
      "    fig = plt.figure()\n",
      "    plt.subplot(111)\n",
      "    plt.pcolor(np.arange(kxmin, kxmax + kstep * 1.1, kstep) - kstep / 2.,\n",
      "               np.arange(kymin, kymax + kstep * 1.1, kstep) - kstep / 2.,\n",
      "               transff.T)\n",
      "    \n",
      "    plt.colorbar()\n",
      "    plt.clim(vmin=0., vmax=1.)\n",
      "    plt.xlim(kxmin, kxmax)\n",
      "    plt.ylim(kymin, kymax)\n",
      "    plt.xlabel('Slowness', fontsize=16)\n",
      "    plt.ylabel('Slowness', fontsize=16)\n",
      "    \n",
      "    plt.show()\n",
      "    return transff\n",
      "\n",
      "\n",
      "\n",
      "def generate_coords(xlim, ylim, nx, ny):\n",
      "    \n",
      "    x = np.linspace(-xlim, xlim, nx)\n",
      "    y = np.linspace(-ylim, ylim, ny)\n",
      "    xv, yv = np.meshgrid(x, y)\n",
      "\n",
      "    x_grd = xv.ravel()\n",
      "    y_grd = yv.ravel()\n",
      "    coords = []\n",
      "    for i in range(len(x_grd)):\n",
      "        coords.append([x_grd[i], y_grd[i], 0])\n",
      "    \n",
      "    coords = np.array(coords)\n",
      "    return coords\n",
      "\n",
      "def random_generate(n = 10, radius = 100):\n",
      "    coords = []\n",
      "    for i in range(0,n):  \n",
      "        x=random() * radius\n",
      "        y=random() * radius \n",
      "        \n",
      "        #if sqrt(x*x+y*y)<=radius:  \n",
      "        coords.append([x, y, 0])\n",
      "    return np.array(coords)"
     ],
     "language": "python",
     "metadata": {},
     "outputs": [],
     "prompt_number": 2
    },
    {
     "cell_type": "markdown",
     "metadata": {},
     "source": [
      "##let's look at the obspy function array_transff_wavenumber first, this is the function to get the response of the array in wavenumber domain\n",
      "\n",
      "Wavenumber is the same as the temporal frequency, but this is the spatial frequency of a wave, either in cycles per unit distance or radians per unit distance. It is the way we sample the signal in spatial. Let's say an example: We define a signal in x direction, and generate a harmonic signal"
     ]
    },
    {
     "cell_type": "code",
     "collapsed": false,
     "input": [
      "#Define PI\n",
      "PI = np.pi\n",
      "\n",
      "#Let's first see if the wavenumber kx = 2 * PI (rad/km), this is saying that, we should have the wavelength as \n",
      "#2 * PI / kx = 1 km\n",
      "kx = 2 * PI\n",
      "\n",
      "#We generate a grid in x direction, from 0 to 50 km, here, we just choose the interval is very small to assume this \n",
      "#is a continous signal\n",
      "x_grid = np.linspace(0., 50, 100000)\n",
      "\n",
      "sig = []\n",
      "for x in x_grid:\n",
      "    sig.append(np.exp(complex(0.,x * kx)))\n",
      "    \n",
      "#Therefore, we plot this sine wave with amplitude 1 and wavelength 1 km. \n",
      "plt.plot(x_grid, sig)\n",
      "plt.xlabel('Distance (km)')\n",
      "plt.ylabel('Amplitude')\n",
      "plt.show()"
     ],
     "language": "python",
     "metadata": {},
     "outputs": [
      {
       "output_type": "stream",
       "stream": "stderr",
       "text": [
        "/usr/local/lib/python2.7/site-packages/numpy/core/numeric.py:462: ComplexWarning: Casting complex values to real discards the imaginary part\n",
        "  return array(a, dtype, copy=False, order=order)\n"
       ]
      }
     ],
     "prompt_number": 3
    },
    {
     "cell_type": "markdown",
     "metadata": {},
     "source": [
      "####Spatial alising"
     ]
    },
    {
     "cell_type": "code",
     "collapsed": false,
     "input": [
      "#Now if we have stations in x direction but the distance between station is 2.08 km\n",
      "x_station = np.linspace(0., 50, 25)\n",
      "print x_station\n",
      "sig_station = []\n",
      "\n",
      "#Now we sample this wave only using these stations\n",
      "for x in x_station:\n",
      "    sig_station.append(np.exp(complex(0.,x * kx)))\n",
      "\n",
      "#Therefore, we can plot the sampled wave in red color and see that, we got a totally different wave. \n",
      "#This is spatial Aliasing, because we don't have enough sampling rate to sample this wave. According to \n",
      "#the Nyqust frequency, if we want to sample this 1 km wavelength wave, we must have the station distance \n",
      "#less or equal than 0.5 km. (Change the x_station last parameter to 101). \n",
      "plt.plot(x_grid, sig)\n",
      "plt.plot(x_station, sig_station, 'r')\n",
      "plt.xlabel('Distance (km)')\n",
      "plt.ylabel('Amplitude')\n",
      "plt.show()"
     ],
     "language": "python",
     "metadata": {},
     "outputs": [
      {
       "output_type": "stream",
       "stream": "stdout",
       "text": [
        "[  0.           2.08333333   4.16666667   6.25         8.33333333\n",
        "  10.41666667  12.5         14.58333333  16.66666667  18.75        20.83333333\n",
        "  22.91666667  25.          27.08333333  29.16666667  31.25        33.33333333\n",
        "  35.41666667  37.5         39.58333333  41.66666667  43.75        45.83333333\n",
        "  47.91666667  50.        ]\n"
       ]
      }
     ],
     "prompt_number": 10
    },
    {
     "cell_type": "markdown",
     "metadata": {},
     "source": [
      "##Spatial sampling and Alising\n",
      "\n",
      "Now think about this, in space, we have a line of array in x direction, this is means that we have stations along the x direction. We can think that each of this station is one sample point in space, (an analogy is if the x axis is time, you have sampling rate at 10 Hz, that is to say, every 0.1s you sample a point), therefore, we sample the whole signal at the points where we have stations. "
     ]
    },
    {
     "cell_type": "code",
     "collapsed": false,
     "input": [
      "#If we have stations every 3 km"
     ],
     "language": "python",
     "metadata": {},
     "outputs": []
    },
    {
     "cell_type": "markdown",
     "metadata": {},
     "source": [
      "###let's first see a line configuration"
     ]
    },
    {
     "cell_type": "code",
     "collapsed": false,
     "input": [
      "coords = np.array([[0., 200., 0.], [0., 100., 0.], [0., 0., 0.],\n",
      "                   [0., -100., 0.], [0., -200., 0.]])\n",
      "\n",
      "transff = get_transff_wavenumber(coords, klim = 500., coordsys = 'xy')"
     ],
     "language": "python",
     "metadata": {},
     "outputs": [],
     "prompt_number": 104
    },
    {
     "cell_type": "markdown",
     "metadata": {},
     "source": [
      "###A cross configuration"
     ]
    },
    {
     "cell_type": "code",
     "collapsed": false,
     "input": [
      "coords = np.array([[0., 200., 0.], [0., 100., 0.], [0., 0., 0.],\n",
      "                   [0., -100., 0.], [0., -200., 0.], [-200., 0., 0.], [-100., 0., 0.], \n",
      "                   [100., 0., 0.], [200., 0., 0.]])\n",
      "transff = get_transff_wavenumber(coords, klim = 500., coordsys = 'xy')"
     ],
     "language": "python",
     "metadata": {},
     "outputs": [],
     "prompt_number": 64
    },
    {
     "cell_type": "markdown",
     "metadata": {},
     "source": [
      "###Rectangular configuration"
     ]
    },
    {
     "cell_type": "code",
     "collapsed": false,
     "input": [
      "coords = generate_coords(xlim = 100, ylim = 100, nx = 3, ny = 3)\n",
      "transff = get_transff_wavenumber(coords, klim = 500., coordsys = 'xy')"
     ],
     "language": "python",
     "metadata": {},
     "outputs": [],
     "prompt_number": 106
    },
    {
     "cell_type": "code",
     "collapsed": false,
     "input": [
      "#Now let's make it denser"
     ],
     "language": "python",
     "metadata": {},
     "outputs": []
    },
    {
     "cell_type": "code",
     "collapsed": false,
     "input": [
      "coords = generate_coords(xlim = 100, ylim = 100, nx = 10, ny = 10)\n",
      "transff = get_transff_wavenumber(coords, klim = 500., coordsys = 'xy')"
     ],
     "language": "python",
     "metadata": {},
     "outputs": [],
     "prompt_number": 107
    },
    {
     "cell_type": "code",
     "collapsed": false,
     "input": [
      "#denser"
     ],
     "language": "python",
     "metadata": {},
     "outputs": [],
     "prompt_number": 93
    },
    {
     "cell_type": "code",
     "collapsed": false,
     "input": [
      "coords = generate_coords(xlim = 100, ylim = 100, nx = 20, ny = 20)\n",
      "transff = get_transff_wavenumber(coords, klim = 500., coordsys = 'xy')"
     ],
     "language": "python",
     "metadata": {},
     "outputs": [],
     "prompt_number": 94
    },
    {
     "cell_type": "markdown",
     "metadata": {},
     "source": [
      "###Let's randomly generate stations within one area"
     ]
    },
    {
     "cell_type": "code",
     "collapsed": false,
     "input": [
      "coords = random_generate(n = 100, radius = 100)\n",
      "transff = get_transff_wavenumber(coords, klim = 500., coordsys = 'xy')"
     ],
     "language": "python",
     "metadata": {},
     "outputs": [],
     "prompt_number": 127
    },
    {
     "cell_type": "code",
     "collapsed": false,
     "input": [],
     "language": "python",
     "metadata": {},
     "outputs": [],
     "prompt_number": 2
    },
    {
     "cell_type": "markdown",
     "metadata": {},
     "source": [
      "##Response in the slowness domain"
     ]
    },
    {
     "cell_type": "code",
     "collapsed": false,
     "input": [
      "coords = random_generate(n = 10, radius = 100)\n",
      "transff = get_transff_freqslowness(coords, slim = 25.,  sstep = 1, fmin = 0.1, fmax = 1, fstep = 0.5, coordsys = 'xy')"
     ],
     "language": "python",
     "metadata": {},
     "outputs": [],
     "prompt_number": 130
    },
    {
     "cell_type": "code",
     "collapsed": false,
     "input": [],
     "language": "python",
     "metadata": {},
     "outputs": []
    },
    {
     "cell_type": "code",
     "collapsed": false,
     "input": [],
     "language": "python",
     "metadata": {},
     "outputs": []
    },
    {
     "cell_type": "code",
     "collapsed": false,
     "input": [],
     "language": "python",
     "metadata": {},
     "outputs": []
    },
    {
     "cell_type": "code",
     "collapsed": false,
     "input": [],
     "language": "python",
     "metadata": {},
     "outputs": []
    },
    {
     "cell_type": "code",
     "collapsed": false,
     "input": [
      "\n",
      "    "
     ],
     "language": "python",
     "metadata": {},
     "outputs": [],
     "prompt_number": 29
    },
    {
     "cell_type": "code",
     "collapsed": false,
     "input": [
      "a = np.exp(complex(0., 1 * kx * 2 * np.pi))"
     ],
     "language": "python",
     "metadata": {},
     "outputs": [],
     "prompt_number": 19
    },
    {
     "cell_type": "code",
     "collapsed": false,
     "input": [
      "a"
     ],
     "language": "python",
     "metadata": {},
     "outputs": [
      {
       "metadata": {},
       "output_type": "pyout",
       "prompt_number": 17,
       "text": [
        "(1-2.4492935982947064e-16j)"
       ]
      }
     ],
     "prompt_number": 17
    },
    {
     "cell_type": "code",
     "collapsed": false,
     "input": [
      "b = np.exp(complex(0., 2.5 * kx * 2 * np.pi))"
     ],
     "language": "python",
     "metadata": {},
     "outputs": [],
     "prompt_number": 25
    },
    {
     "cell_type": "code",
     "collapsed": false,
     "input": [
      "b"
     ],
     "language": "python",
     "metadata": {},
     "outputs": [
      {
       "metadata": {},
       "output_type": "pyout",
       "prompt_number": 26,
       "text": [
        "(-1+6.1232339957367663e-16j)"
       ]
      }
     ],
     "prompt_number": 26
    },
    {
     "cell_type": "code",
     "collapsed": false,
     "input": [
      "a + b"
     ],
     "language": "python",
     "metadata": {},
     "outputs": [
      {
       "metadata": {},
       "output_type": "pyout",
       "prompt_number": 27,
       "text": [
        "3.6739403974420599e-16j"
       ]
      }
     ],
     "prompt_number": 27
    },
    {
     "cell_type": "code",
     "collapsed": false,
     "input": [
      "np.abs(a+b)"
     ],
     "language": "python",
     "metadata": {},
     "outputs": [
      {
       "metadata": {},
       "output_type": "pyout",
       "prompt_number": 28,
       "text": [
        "3.6739403974420599e-16"
       ]
      }
     ],
     "prompt_number": 28
    },
    {
     "cell_type": "code",
     "collapsed": false,
     "input": [],
     "language": "python",
     "metadata": {},
     "outputs": []
    }
   ],
   "metadata": {}
  }
 ]
}