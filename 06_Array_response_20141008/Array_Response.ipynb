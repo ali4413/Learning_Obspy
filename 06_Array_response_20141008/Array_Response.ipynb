{
 "metadata": {
  "name": ""
 },
 "nbformat": 3,
 "nbformat_minor": 0,
 "worksheets": [
  {
   "cells": [
    {
     "cell_type": "code",
     "collapsed": false,
     "input": [
      "import matplotlib.pyplot as plt\n",
      "import numpy as np\n",
      "from obspy.signal.array_analysis import array_transff_wavenumber\n",
      "from obspy.signal.array_analysis import array_transff_freqslowness\n",
      "from random import *  "
     ],
     "language": "python",
     "metadata": {},
     "outputs": [],
     "prompt_number": 109
    },
    {
     "cell_type": "markdown",
     "metadata": {},
     "source": [
      "##Let's first look at what is Array response"
     ]
    },
    {
     "cell_type": "markdown",
     "metadata": {},
     "source": [
      "###The response of an array is defined by: the ratio of the amplitude of the output of the array to that of the same number of elements concentrated at one station (Sherrif and Geldart, 1995)"
     ]
    },
    {
     "cell_type": "markdown",
     "metadata": {},
     "source": [
      "##let's look at the obspy function array_transff_wavenumber first, this is the function to get the response of the array in wavenumber domain"
     ]
    },
    {
     "cell_type": "code",
     "collapsed": false,
     "input": [
      "def get_transff_wavenumber(coords, klim = 1000., coordsys = 'xy'):\n",
      "    # coordinates in km\n",
      "    coords /= 1000.\n",
      "    \n",
      "    # set limits for wavenumber differences to analyze\n",
      "    kxmin = -klim\n",
      "    kxmax = klim\n",
      "    kymin = -klim\n",
      "    kymax = klim\n",
      "    kstep = klim / 100.\n",
      "    \n",
      "    # compute transfer function as a function of wavenumber difference\n",
      "    transff = array_transff_wavenumber(coords, klim, kstep, coordsys=coordsys)\n",
      "    \n",
      "    fig = plt.figure()\n",
      "    plt.subplot(111)\n",
      "    for item in coords:\n",
      "        plt.plot(item[0], item[1],'^', color = 'b')\n",
      "    \n",
      "    plt.xlim((1.1*min(coords[:,0]), 1.1*max(coords[:,0])))\n",
      "    plt.ylim((1.1*min(coords[:,1]), 1.1*max(coords[:,1])))  \n",
      "    plt.xlabel('Distance from center (km)', fontsize=16)\n",
      "    plt.ylabel('Distance from center (km)', fontsize=16)\n",
      "        \n",
      "    plt.show()\n",
      "    \n",
      "    fig = plt.figure()\n",
      "    plt.subplot(111)\n",
      "    plt.pcolor(np.arange(kxmin, kxmax + kstep * 1.1, kstep) - kstep / 2.,\n",
      "               np.arange(kymin, kymax + kstep * 1.1, kstep) - kstep / 2.,\n",
      "               transff.T)\n",
      "    \n",
      "    plt.colorbar()\n",
      "    plt.clim(vmin=0., vmax=1.)\n",
      "    plt.xlim(kxmin, kxmax)\n",
      "    plt.ylim(kymin, kymax)\n",
      "    plt.xlabel('Wavenumber', fontsize=16)\n",
      "    plt.ylabel('Wavenumber', fontsize=16)\n",
      "    \n",
      "    plt.show()\n",
      "    return transff\n",
      "\n",
      "def get_transff_freqslowness(coords, slim = 30., sstep = 0.1, fmin = 0.1, fmax = 10, fstep = 1, coordsys = 'xy'):\n",
      "    # coordinates in km\n",
      "    coords /= 1000.\n",
      "    \n",
      "    transff2 = array_transff_freqslowness(coords, slim, sstep, fmin, fmax, fstep,\n",
      "                               coordsys='lonlat')\n",
      "    \n",
      "    fig = plt.figure()\n",
      "    plt.subplot(111)\n",
      "    for item in coords:\n",
      "        plt.plot(item[0], item[1],'^', color = 'b')\n",
      "    \n",
      "    plt.xlim((1.1*min(coords[:,0]), 1.1*max(coords[:,0])))\n",
      "    plt.ylim((1.1*min(coords[:,1]), 1.1*max(coords[:,1])))  \n",
      "    plt.xlabel('Distance from center (km)', fontsize=16)\n",
      "    plt.ylabel('Distance from center (km)', fontsize=16)\n",
      "        \n",
      "    plt.show()\n",
      "    \n",
      "    fig = plt.figure()\n",
      "    plt.subplot(111)\n",
      "    plt.pcolor(np.arange(kxmin, kxmax + kstep * 1.1, kstep) - kstep / 2.,\n",
      "               np.arange(kymin, kymax + kstep * 1.1, kstep) - kstep / 2.,\n",
      "               transff.T)\n",
      "    \n",
      "    plt.colorbar()\n",
      "    plt.clim(vmin=0., vmax=1.)\n",
      "    plt.xlim(kxmin, kxmax)\n",
      "    plt.ylim(kymin, kymax)\n",
      "    plt.xlabel('Slowness', fontsize=16)\n",
      "    plt.ylabel('Slowness', fontsize=16)\n",
      "    \n",
      "    plt.show()\n",
      "    return transff\n",
      "\n",
      "\n",
      "\n",
      "def generate_coords(xlim, ylim, nx, ny):\n",
      "    \n",
      "    x = np.linspace(-xlim, xlim, nx)\n",
      "    y = np.linspace(-ylim, ylim, ny)\n",
      "    xv, yv = np.meshgrid(x, y)\n",
      "\n",
      "    x_grd = xv.ravel()\n",
      "    y_grd = yv.ravel()\n",
      "    coords = []\n",
      "    for i in range(len(x_grd)):\n",
      "        coords.append([x_grd[i], y_grd[i], 0])\n",
      "    \n",
      "    coords = np.array(coords)\n",
      "    return coords\n",
      "\n",
      "def random_generate(n = 10, radius = 100):\n",
      "    coords = []\n",
      "    for i in range(0,n):  \n",
      "        x=random() * radius\n",
      "        y=random() * radius \n",
      "        \n",
      "        #if sqrt(x*x+y*y)<=radius:  \n",
      "        coords.append([x, y, 0])\n",
      "    return np.array(coords)"
     ],
     "language": "python",
     "metadata": {},
     "outputs": [],
     "prompt_number": 131
    },
    {
     "cell_type": "markdown",
     "metadata": {},
     "source": [
      "###let's first see a line configuration"
     ]
    },
    {
     "cell_type": "code",
     "collapsed": false,
     "input": [
      "coords = np.array([[0., 200., 0.], [0., 100., 0.], [0., 0., 0.],\n",
      "                   [0., -100., 0.], [0., -200., 0.]])\n",
      "\n",
      "transff = get_transff_wavenumber(coords, klim = 500., coordsys = 'xy')"
     ],
     "language": "python",
     "metadata": {},
     "outputs": [],
     "prompt_number": 104
    },
    {
     "cell_type": "markdown",
     "metadata": {},
     "source": [
      "###A cross configuration"
     ]
    },
    {
     "cell_type": "code",
     "collapsed": false,
     "input": [
      "coords = np.array([[0., 200., 0.], [0., 100., 0.], [0., 0., 0.],\n",
      "                   [0., -100., 0.], [0., -200., 0.], [-200., 0., 0.], [-100., 0., 0.], \n",
      "                   [100., 0., 0.], [200., 0., 0.]])\n",
      "transff = get_transff_wavenumber(coords, klim = 500., coordsys = 'xy')"
     ],
     "language": "python",
     "metadata": {},
     "outputs": [],
     "prompt_number": 64
    },
    {
     "cell_type": "markdown",
     "metadata": {},
     "source": [
      "###Rectangular configuration"
     ]
    },
    {
     "cell_type": "code",
     "collapsed": false,
     "input": [
      "coords = generate_coords(xlim = 100, ylim = 100, nx = 3, ny = 3)\n",
      "transff = get_transff_wavenumber(coords, klim = 500., coordsys = 'xy')"
     ],
     "language": "python",
     "metadata": {},
     "outputs": [],
     "prompt_number": 106
    },
    {
     "cell_type": "code",
     "collapsed": false,
     "input": [
      "#Now let's make it denser"
     ],
     "language": "python",
     "metadata": {},
     "outputs": []
    },
    {
     "cell_type": "code",
     "collapsed": false,
     "input": [
      "coords = generate_coords(xlim = 100, ylim = 100, nx = 10, ny = 10)\n",
      "transff = get_transff_wavenumber(coords, klim = 500., coordsys = 'xy')"
     ],
     "language": "python",
     "metadata": {},
     "outputs": [],
     "prompt_number": 107
    },
    {
     "cell_type": "code",
     "collapsed": false,
     "input": [
      "#denser"
     ],
     "language": "python",
     "metadata": {},
     "outputs": [],
     "prompt_number": 93
    },
    {
     "cell_type": "code",
     "collapsed": false,
     "input": [
      "coords = generate_coords(xlim = 100, ylim = 100, nx = 20, ny = 20)\n",
      "transff = get_transff_wavenumber(coords, klim = 500., coordsys = 'xy')"
     ],
     "language": "python",
     "metadata": {},
     "outputs": [],
     "prompt_number": 94
    },
    {
     "cell_type": "markdown",
     "metadata": {},
     "source": [
      "###Let's randomly generate stations within one area"
     ]
    },
    {
     "cell_type": "code",
     "collapsed": false,
     "input": [
      "coords = random_generate(n = 100, radius = 100)\n",
      "transff = get_transff_wavenumber(coords, klim = 500., coordsys = 'xy')"
     ],
     "language": "python",
     "metadata": {},
     "outputs": [],
     "prompt_number": 127
    },
    {
     "cell_type": "code",
     "collapsed": false,
     "input": [],
     "language": "python",
     "metadata": {},
     "outputs": []
    },
    {
     "cell_type": "markdown",
     "metadata": {},
     "source": [
      "##Response in the slowness domain"
     ]
    },
    {
     "cell_type": "code",
     "collapsed": false,
     "input": [
      "coords = random_generate(n = 10, radius = 100)\n",
      "transff = get_transff_freqslowness(coords, slim = 25.,  sstep = 1, fmin = 0.1, fmax = 1, fstep = 0.5, coordsys = 'xy')"
     ],
     "language": "python",
     "metadata": {},
     "outputs": [],
     "prompt_number": 130
    },
    {
     "cell_type": "code",
     "collapsed": false,
     "input": [],
     "language": "python",
     "metadata": {},
     "outputs": []
    },
    {
     "cell_type": "code",
     "collapsed": false,
     "input": [],
     "language": "python",
     "metadata": {},
     "outputs": []
    },
    {
     "cell_type": "code",
     "collapsed": false,
     "input": [],
     "language": "python",
     "metadata": {},
     "outputs": []
    },
    {
     "cell_type": "code",
     "collapsed": false,
     "input": [],
     "language": "python",
     "metadata": {},
     "outputs": []
    },
    {
     "cell_type": "code",
     "collapsed": false,
     "input": [],
     "language": "python",
     "metadata": {},
     "outputs": []
    },
    {
     "cell_type": "code",
     "collapsed": false,
     "input": [],
     "language": "python",
     "metadata": {},
     "outputs": []
    },
    {
     "cell_type": "markdown",
     "metadata": {},
     "source": [
      "##For Taka"
     ]
    },
    {
     "cell_type": "code",
     "collapsed": false,
     "input": [
      " # generate array coordinates\n",
      "coords = np.array([[38.3453, -122.4584, 271.8], [38.1215, -122.2753, -180.3], [38.4395, -122.2527, 716], \n",
      "                   [38.2175, -122.3577, 3], [38.1228, -122.1492, 180], [38.0760, -122.2585, 40], \n",
      "                   [38.2002, -122.4644, 192], [38.1436, -122.4497, -2], [38.4156, -122.1165, 795], \n",
      "                   [38.0273, -122.5655, -198.2]])\n",
      "\n",
      "# coordinates in km\n",
      "coords /= 1000.\n",
      "\n",
      "# set limits for wavenumber differences to analyze\n",
      "klim = 100.\n",
      "kxmin = -klim\n",
      "kxmax = klim\n",
      "kymin = -klim\n",
      "kymax = klim\n",
      "kstep = klim / 100.\n",
      "\n",
      "# compute transfer function as a function of wavenumber difference\n",
      "transff = array_transff_wavenumber(coords, klim, kstep, coordsys='lonlat')\n",
      "\n",
      "# plot\n",
      "plt.pcolor(np.arange(kxmin, kxmax + kstep * 1.1, kstep) - kstep / 2.,\n",
      "           np.arange(kymin, kymax + kstep * 1.1, kstep) - kstep / 2.,\n",
      "           transff.T)\n",
      "\n",
      "plt.colorbar()\n",
      "plt.clim(vmin=0., vmax=1.)\n",
      "plt.xlim(kxmin, kxmax)\n",
      "plt.ylim(kymin, kymax)\n",
      "plt.show()"
     ],
     "language": "python",
     "metadata": {},
     "outputs": []
    },
    {
     "cell_type": "code",
     "collapsed": false,
     "input": [],
     "language": "python",
     "metadata": {},
     "outputs": []
    },
    {
     "cell_type": "code",
     "collapsed": false,
     "input": [
      "slim = 35.\n",
      "sxmin = -slim\n",
      "sxmax = slim\n",
      "symin = -slim\n",
      "symax = slim\n",
      "sstep = 0.1\n",
      "fmin = 0.1\n",
      "fmax = 0.9\n",
      "fstep = 0.1\n",
      "\n",
      "transff2 = array_transff_freqslowness(coords, slim, sstep, fmin, fmax, fstep,\n",
      "                               coordsys='lonlat')\n",
      "\n",
      "# plot\n",
      "plt.pcolor(np.arange(sxmin, sxmax + sstep * 1.1, sstep) - sstep / 2.,\n",
      "           np.arange(symin, symax + sstep * 1.1, sstep) - sstep / 2.,\n",
      "           transff2.T)\n",
      "\n",
      "plt.colorbar()\n",
      "plt.clim(vmin=0., vmax=1.)\n",
      "plt.xlim(sxmin, sxmax)\n",
      "plt.ylim(symin, symax)\n",
      "plt.xlabel('Slowness', fontsize = 16)\n",
      "plt.ylabel('Slowness', fontsize = 16)\n",
      "plt.show()"
     ],
     "language": "python",
     "metadata": {},
     "outputs": [],
     "prompt_number": 40
    },
    {
     "cell_type": "code",
     "collapsed": false,
     "input": [],
     "language": "python",
     "metadata": {},
     "outputs": [],
     "prompt_number": 41
    },
    {
     "cell_type": "code",
     "collapsed": false,
     "input": [],
     "language": "python",
     "metadata": {},
     "outputs": [],
     "prompt_number": 42
    },
    {
     "cell_type": "code",
     "collapsed": false,
     "input": [],
     "language": "python",
     "metadata": {},
     "outputs": []
    },
    {
     "cell_type": "code",
     "collapsed": false,
     "input": [],
     "language": "python",
     "metadata": {},
     "outputs": []
    },
    {
     "cell_type": "code",
     "collapsed": false,
     "input": [],
     "language": "python",
     "metadata": {},
     "outputs": []
    },
    {
     "cell_type": "code",
     "collapsed": false,
     "input": [],
     "language": "python",
     "metadata": {},
     "outputs": []
    },
    {
     "cell_type": "code",
     "collapsed": false,
     "input": [],
     "language": "python",
     "metadata": {},
     "outputs": []
    },
    {
     "cell_type": "code",
     "collapsed": false,
     "input": [],
     "language": "python",
     "metadata": {},
     "outputs": []
    },
    {
     "cell_type": "code",
     "collapsed": false,
     "input": [],
     "language": "python",
     "metadata": {},
     "outputs": []
    },
    {
     "cell_type": "code",
     "collapsed": false,
     "input": [
      "CVS [38.3453, -122.4584, 271.8]\n",
      "VALB 38.1215, -122.2753, -180.3\n",
      "NAPC 38.4395, -122.2527, 716\n",
      "NHC 38.2175, -122.3577, 3\n",
      "NLH 38.1228, -122.1492, 180\n",
      "NMI 38.0760, -122.2585, 40\n",
      "NSP 38.2002, -122.4644, 192\n",
      "NTO 38.1436, -122.4497, -2\n",
      "NVA 38.4156, -122.1165, 795\n",
      "B057 38.0273, -122.5655, -198.2"
     ],
     "language": "python",
     "metadata": {},
     "outputs": []
    }
   ],
   "metadata": {}
  }
 ]
}