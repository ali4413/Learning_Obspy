{
 "metadata": {
  "name": ""
 },
 "nbformat": 3,
 "nbformat_minor": 0,
 "worksheets": [
  {
   "cells": [
    {
     "cell_type": "markdown",
     "metadata": {},
     "source": [
      "## 3. ObsPy\n",
      "\n",
      "Goal: Familiarize Yourself With ObsPy\u2019s Main\n",
      "Objects and Functions\n",
      "\n",
      "### 3.1 obspy.core - Central module that is the glue between all other ObsPy modules. \n",
      "\n",
      "- Provides all important base classes and functions\n",
      "  * The **`UTCDateTime`** class. Used to deal with time information.\n",
      "  * The **`Trace`** class. Deals with a single chunk of contiguous waveform data.\n",
      "  * The **`Stream`** class. A collection of traces. Eases organization and multi-component/bulk processing.\n",
      "  * The **`Event`** class. Modelled after QuakeML.\n",
      "  * The **`Catalog`** class. A collection of events. Modelled after QuakeML.\n",
      "  * The **`read()`** function. Reads all kinds of waveform file formats. Outputs a **`Stream`** object\n",
      "  * The **`readEvents()`** function. Reads QuakeML files. Outputs a **`Catalog`** object\n",
      "\n",
      "- Unified interface and functionality for handling waveform data in form of the **`Stream`** and **`Trace`** classes\n",
      "- All absolute time values within ObsPy are consistently handled with the **`UTCDateTime`** class\n",
      "- provides **`read()`** and **`readEvents()`** functions to read local data via the appropriate submodule (filetype autodiscovery)\n",
      "- Event data is handled with the **`Event`** class\n",
      "- Generally useful utility classes, general utility methods (e.g. for geodetic calculations)\n",
      "- Management of submodule/plugin discovery and binding, a global test script for running all submodule tests, ...\n",
      "\n",
      "#### Handling Time - The **`UTCDateTime`** Class\n",
      "\n",
      " - All absolute time values are consistently handled with this class\n",
      " - No need to worry about timezones (can be specified at initialization, internally)\n",
      " - Based on a high precision POSIX timestamp and not the Python datetime class because precision was an issue\n",
      "\n",
      "#### Features of **`UTCDateTime`**\n",
      "\n",
      " - Initialization"
     ]
    },
    {
     "cell_type": "code",
     "collapsed": false,
     "input": [
      "import obspy\n",
      "\n",
      "# Print the contents of the root ObsPy module discarding currently\n",
      "# not needed functionality.\n",
      "print [_i for _i in dir(obspy) if not _i.startswith(\"_\") and _i != \"core\"]"
     ],
     "language": "python",
     "metadata": {},
     "outputs": []
    }
   ],
   "metadata": {}
  }
 ]
}